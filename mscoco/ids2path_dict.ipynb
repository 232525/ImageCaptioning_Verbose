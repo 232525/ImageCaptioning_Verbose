{
 "cells": [
  {
   "cell_type": "markdown",
   "metadata": {},
   "source": [
    "### __1 基于json文件构建一个 iamge_id: image_path 的映射__\n",
    "\n",
    "__预训练特征保存文件命名为 image_id__\n",
    "\n",
    "__如果使用原始图像进行训练，则需要图像的路径用于正确读取图像__"
   ]
  },
  {
   "cell_type": "code",
   "execution_count": 1,
   "metadata": {},
   "outputs": [],
   "source": [
    "import os\n",
    "import numpy as np\n",
    "import json"
   ]
  },
  {
   "cell_type": "code",
   "execution_count": 2,
   "metadata": {},
   "outputs": [],
   "source": [
    "# 图像路径信息保存文件\n",
    "offline_json = './misc/dataset_coco.json'\n",
    "online_json = './misc/image_info_test2014.json'\n",
    "\n",
    "# 图像ids信息保存文件\n",
    "train_ids_txt = './txt/coco_train_image_id.txt'\n",
    "val_ids_txt = './txt/coco_val_image_id.txt'\n",
    "test_ids_txt = './txt/coco_test_image_id.txt'\n",
    "online_test_ids_txt = './txt/coco_test4w_image_id.txt'"
   ]
  },
  {
   "cell_type": "code",
   "execution_count": 5,
   "metadata": {},
   "outputs": [],
   "source": [
    "def build_id2path_dict(ids_txt_file, json_file, split):\n",
    "    with open(ids_txt_file, 'r') as f:\n",
    "        image_ids = [line.strip() for line in f]\n",
    "    \n",
    "    source_dict = {}\n",
    "    with open(json_file, 'r') as f:\n",
    "        json_data = json.load(f)['images']\n",
    "        for _ in json_data:\n",
    "            if 'id' in _:\n",
    "                _id = _['id']\n",
    "            else:\n",
    "                _id = _['cocoid']\n",
    "            if 'file_name' in _:\n",
    "                _path = _['file_name']\n",
    "            else:\n",
    "                _path = _['filename']\n",
    "            _path = os.path.join(_path.split('_')[1], _path)\n",
    "            source_dict[_id] = _path\n",
    "            \n",
    "    target_dict = {}\n",
    "    for image_id in image_ids:\n",
    "        image_id = int(image_id)\n",
    "        if image_id in source_dict:\n",
    "            target_dict[image_id] = source_dict[image_id]\n",
    "            \n",
    "    print('%s target dict: %d' % (split, len(target_dict)))\n",
    "    \n",
    "    save_file_name = os.path.join(\n",
    "        './misc/ids2path_json', 'coco_' + split + '_ids2path.json'\n",
    "    )\n",
    "    with open(save_file_name, 'w') as f:\n",
    "        json.dump(target_dict, f)"
   ]
  },
  {
   "cell_type": "code",
   "execution_count": 6,
   "metadata": {},
   "outputs": [
    {
     "name": "stdout",
     "output_type": "stream",
     "text": [
      "train target dict: 113287\n",
      "val target dict: 5000\n",
      "test target dict: 5000\n",
      "test4w target dict: 40775\n"
     ]
    }
   ],
   "source": [
    "build_id2path_dict(train_ids_txt, offline_json, 'train')\n",
    "build_id2path_dict(val_ids_txt, offline_json, 'val')\n",
    "build_id2path_dict(test_ids_txt, offline_json, 'test')\n",
    "build_id2path_dict(online_test_ids_txt, online_json, 'test4w')"
   ]
  },
  {
   "cell_type": "code",
   "execution_count": null,
   "metadata": {},
   "outputs": [],
   "source": []
  },
  {
   "cell_type": "code",
   "execution_count": null,
   "metadata": {},
   "outputs": [],
   "source": []
  }
 ],
 "metadata": {
  "kernelspec": {
   "display_name": "Python 3",
   "language": "python",
   "name": "python3"
  },
  "language_info": {
   "codemirror_mode": {
    "name": "ipython",
    "version": 3
   },
   "file_extension": ".py",
   "mimetype": "text/x-python",
   "name": "python",
   "nbconvert_exporter": "python",
   "pygments_lexer": "ipython3",
   "version": "3.7.4"
  }
 },
 "nbformat": 4,
 "nbformat_minor": 4
}
